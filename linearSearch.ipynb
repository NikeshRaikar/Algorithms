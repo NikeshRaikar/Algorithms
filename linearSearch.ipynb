{
  "nbformat": 4,
  "nbformat_minor": 0,
  "metadata": {
    "colab": {
      "name": "linearSearch.ipynb",
      "provenance": [],
      "authorship_tag": "ABX9TyPgnc91EEyLDg1Iner0NdV5",
      "include_colab_link": true
    },
    "kernelspec": {
      "name": "python3",
      "display_name": "Python 3"
    }
  },
  "cells": [
    {
      "cell_type": "markdown",
      "metadata": {
        "id": "view-in-github",
        "colab_type": "text"
      },
      "source": [
        "<a href=\"https://colab.research.google.com/github/NikeshRaikar/Algorithms/blob/main/linearSearch.ipynb\" target=\"_parent\"><img src=\"https://colab.research.google.com/assets/colab-badge.svg\" alt=\"Open In Colab\"/></a>"
      ]
    },
    {
      "cell_type": "code",
      "metadata": {
        "colab": {
          "base_uri": "https://localhost:8080/"
        },
        "id": "d2OZJNymYSSW",
        "outputId": "8a615cfe-51f5-4c87-ce53-091a43b8aff3"
      },
      "source": [
        "def linearSearch( arr, n, x ) :\r\n",
        "    \r\n",
        "    for i in range ( 0 , n):\r\n",
        "        if arr[i]== x :\r\n",
        "          return i\r\n",
        "    return -1 \r\n",
        "\r\n",
        "\r\n",
        "\r\n",
        "# driver code \r\n",
        "arr = [1 ,2 , 3 , 4 , 5, 6 , 7, 8, 9, 10 ]\r\n",
        "n = len(arr)\r\n",
        "x = 5\r\n",
        "\r\n",
        "search = linearSearch(arr, n , x)\r\n",
        "\r\n",
        "if search == -1 : \r\n",
        "    print(\"no Match\")\r\n",
        "else :\r\n",
        "    print (\"Linear search matched\")\r\n",
        "\r\n"
      ],
      "execution_count": 4,
      "outputs": [
        {
          "output_type": "stream",
          "text": [
            "Linear search matched\n"
          ],
          "name": "stdout"
        }
      ]
    }
  ]
}